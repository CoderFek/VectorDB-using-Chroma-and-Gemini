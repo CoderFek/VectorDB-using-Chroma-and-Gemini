{
 "cells": [
  {
   "cell_type": "code",
   "execution_count": 1,
   "metadata": {},
   "outputs": [],
   "source": [
    "import chromadb"
   ]
  },
  {
   "cell_type": "code",
   "execution_count": 2,
   "metadata": {},
   "outputs": [],
   "source": [
    "chroma_client = chromadb.Client()"
   ]
  },
  {
   "cell_type": "code",
   "execution_count": null,
   "metadata": {},
   "outputs": [],
   "source": [
    "collection = chroma_client.create_collection(\"documents\")"
   ]
  },
  {
   "cell_type": "code",
   "execution_count": 40,
   "metadata": {},
   "outputs": [
    {
     "data": {
      "text/html": [
       "<div><style>\n",
       ".dataframe > thead > tr,\n",
       ".dataframe > tbody > tr {\n",
       "  text-align: right;\n",
       "  white-space: pre-wrap;\n",
       "}\n",
       "</style>\n",
       "<small>shape: (5, 4)</small><table border=\"1\" class=\"dataframe\"><thead><tr><th></th><th>quote</th><th>author</th><th>tags</th></tr><tr><td>i64</td><td>str</td><td>str</td><td>str</td></tr></thead><tbody><tr><td>0</td><td>&quot;“Be yourself; everyone else is…</td><td>&quot;Oscar Wilde&quot;</td><td>&quot;[&#x27;be-yourself&#x27;, &#x27;gilbert-perre…</td></tr><tr><td>1</td><td>&quot;“I&#x27;m selfish, impatient and a …</td><td>&quot;Marilyn Monroe&quot;</td><td>&quot;[&#x27;best&#x27;, &#x27;life&#x27;, &#x27;love&#x27;, &#x27;mist…</td></tr><tr><td>2</td><td>&quot;“Two things are infinite: the …</td><td>&quot;Albert Einstein&quot;</td><td>&quot;[&#x27;human-nature&#x27;, &#x27;humor&#x27;, &#x27;inf…</td></tr><tr><td>3</td><td>&quot;“So many books, so little time…</td><td>&quot;Frank Zappa&quot;</td><td>&quot;[&#x27;books&#x27;, &#x27;humor&#x27;]&quot;</td></tr><tr><td>4</td><td>&quot;“A room without books is like …</td><td>&quot;Marcus Tullius Cicero&quot;</td><td>&quot;[&#x27;books&#x27;, &#x27;simile&#x27;, &#x27;soul&#x27;]&quot;</td></tr></tbody></table></div>"
      ],
      "text/plain": [
       "shape: (5, 4)\n",
       "┌─────┬─────────────────────────────────┬───────────────────────┬─────────────────────────────────┐\n",
       "│     ┆ quote                           ┆ author                ┆ tags                            │\n",
       "│ --- ┆ ---                             ┆ ---                   ┆ ---                             │\n",
       "│ i64 ┆ str                             ┆ str                   ┆ str                             │\n",
       "╞═════╪═════════════════════════════════╪═══════════════════════╪═════════════════════════════════╡\n",
       "│ 0   ┆ “Be yourself; everyone else is… ┆ Oscar Wilde           ┆ ['be-yourself', 'gilbert-perre… │\n",
       "│ 1   ┆ “I'm selfish, impatient and a … ┆ Marilyn Monroe        ┆ ['best', 'life', 'love', 'mist… │\n",
       "│ 2   ┆ “Two things are infinite: the … ┆ Albert Einstein       ┆ ['human-nature', 'humor', 'inf… │\n",
       "│ 3   ┆ “So many books, so little time… ┆ Frank Zappa           ┆ ['books', 'humor']              │\n",
       "│ 4   ┆ “A room without books is like … ┆ Marcus Tullius Cicero ┆ ['books', 'simile', 'soul']     │\n",
       "└─────┴─────────────────────────────────┴───────────────────────┴─────────────────────────────────┘"
      ]
     },
     "execution_count": 40,
     "metadata": {},
     "output_type": "execute_result"
    }
   ],
   "source": [
    "import polars as pl\n",
    "\n",
    "quotes = pl.read_csv(\"./quotes.csv\")\n",
    "quotes.head()"
   ]
  },
  {
   "cell_type": "code",
   "execution_count": 46,
   "metadata": {},
   "outputs": [],
   "source": [
    "quotes = quotes.rename({'':'index'})"
   ]
  },
  {
   "cell_type": "code",
   "execution_count": 4,
   "metadata": {},
   "outputs": [
    {
     "data": {
      "text/plain": [
       "(2508, 4)"
      ]
     },
     "execution_count": 4,
     "metadata": {},
     "output_type": "execute_result"
    }
   ],
   "source": [
    "quotes.shape"
   ]
  },
  {
   "cell_type": "code",
   "execution_count": 5,
   "metadata": {},
   "outputs": [],
   "source": [
    "KEY = \"YOUR API KEY\""
   ]
  },
  {
   "cell_type": "code",
   "execution_count": 6,
   "metadata": {},
   "outputs": [],
   "source": [
    "import chromadb.utils.embedding_functions as embedding_functions\n",
    "google_ef  = embedding_functions.GoogleGenerativeAiEmbeddingFunction(api_key=KEY)\n"
   ]
  },
  {
   "cell_type": "code",
   "execution_count": 47,
   "metadata": {},
   "outputs": [
    {
     "data": {
      "text/html": [
       "<div><style>\n",
       ".dataframe > thead > tr,\n",
       ".dataframe > tbody > tr {\n",
       "  text-align: right;\n",
       "  white-space: pre-wrap;\n",
       "}\n",
       "</style>\n",
       "<small>shape: (5, 4)</small><table border=\"1\" class=\"dataframe\"><thead><tr><th>index</th><th>quote</th><th>author</th><th>tags</th></tr><tr><td>i64</td><td>str</td><td>str</td><td>str</td></tr></thead><tbody><tr><td>0</td><td>&quot;“Be yourself; everyone else is…</td><td>&quot;Oscar Wilde&quot;</td><td>&quot;[&#x27;be-yourself&#x27;, &#x27;gilbert-perre…</td></tr><tr><td>1</td><td>&quot;“I&#x27;m selfish, impatient and a …</td><td>&quot;Marilyn Monroe&quot;</td><td>&quot;[&#x27;best&#x27;, &#x27;life&#x27;, &#x27;love&#x27;, &#x27;mist…</td></tr><tr><td>2</td><td>&quot;“Two things are infinite: the …</td><td>&quot;Albert Einstein&quot;</td><td>&quot;[&#x27;human-nature&#x27;, &#x27;humor&#x27;, &#x27;inf…</td></tr><tr><td>3</td><td>&quot;“So many books, so little time…</td><td>&quot;Frank Zappa&quot;</td><td>&quot;[&#x27;books&#x27;, &#x27;humor&#x27;]&quot;</td></tr><tr><td>4</td><td>&quot;“A room without books is like …</td><td>&quot;Marcus Tullius Cicero&quot;</td><td>&quot;[&#x27;books&#x27;, &#x27;simile&#x27;, &#x27;soul&#x27;]&quot;</td></tr></tbody></table></div>"
      ],
      "text/plain": [
       "shape: (5, 4)\n",
       "┌───────┬─────────────────────────────────┬───────────────────────┬─────────────────────────────┐\n",
       "│ index ┆ quote                           ┆ author                ┆ tags                        │\n",
       "│ ---   ┆ ---                             ┆ ---                   ┆ ---                         │\n",
       "│ i64   ┆ str                             ┆ str                   ┆ str                         │\n",
       "╞═══════╪═════════════════════════════════╪═══════════════════════╪═════════════════════════════╡\n",
       "│ 0     ┆ “Be yourself; everyone else is… ┆ Oscar Wilde           ┆ ['be-yourself',             │\n",
       "│       ┆                                 ┆                       ┆ 'gilbert-perre…             │\n",
       "│ 1     ┆ “I'm selfish, impatient and a … ┆ Marilyn Monroe        ┆ ['best', 'life', 'love',    │\n",
       "│       ┆                                 ┆                       ┆ 'mist…                      │\n",
       "│ 2     ┆ “Two things are infinite: the … ┆ Albert Einstein       ┆ ['human-nature', 'humor',   │\n",
       "│       ┆                                 ┆                       ┆ 'inf…                       │\n",
       "│ 3     ┆ “So many books, so little time… ┆ Frank Zappa           ┆ ['books', 'humor']          │\n",
       "│ 4     ┆ “A room without books is like … ┆ Marcus Tullius Cicero ┆ ['books', 'simile', 'soul'] │\n",
       "└───────┴─────────────────────────────────┴───────────────────────┴─────────────────────────────┘"
      ]
     },
     "execution_count": 47,
     "metadata": {},
     "output_type": "execute_result"
    }
   ],
   "source": [
    "N = 12\n",
    "quotes = quotes[:N]\n",
    "quotes.head()"
   ]
  },
  {
   "cell_type": "code",
   "execution_count": 21,
   "metadata": {},
   "outputs": [],
   "source": [
    "from pprint import pprint"
   ]
  },
  {
   "cell_type": "code",
   "execution_count": 22,
   "metadata": {},
   "outputs": [
    {
     "name": "stdout",
     "output_type": "stream",
     "text": [
      "['“Be yourself; everyone else is already taken.”',\n",
      " \"“I'm selfish, impatient and a little insecure. I make mistakes, I am out of \"\n",
      " \"control and at times hard to handle. But if you can't handle me at my worst, \"\n",
      " \"then you sure as hell don't deserve me at my best.”\",\n",
      " \"“Two things are infinite: the universe and human stupidity; and I'm not sure \"\n",
      " 'about the universe.”',\n",
      " '“So many books, so little time.”',\n",
      " '“A room without books is like a body without a soul.”',\n",
      " \"“Be who you are and say what you feel, because those who mind don't matter, \"\n",
      " \"and those who matter don't mind.”\",\n",
      " \"“You've gotta dance like there's nobody watching,Love like you'll never be \"\n",
      " \"hurt,Sing like there's nobody listening,And live like it's heaven on earth.”\",\n",
      " \"“You know you're in love when you can't fall asleep because reality is \"\n",
      " 'finally better than your dreams.”',\n",
      " '“You only live once, but if you do it right, once is enough.”',\n",
      " '“Be the change that you wish to see in the world.”']\n"
     ]
    }
   ],
   "source": [
    "l = []\n",
    "\n",
    "for i in range(10):\n",
    "    l.append(quotes['quote'][i])\n",
    "\n",
    "pprint(l)"
   ]
  },
  {
   "cell_type": "code",
   "execution_count": 29,
   "metadata": {},
   "outputs": [
    {
     "data": {
      "text/plain": [
       "11"
      ]
     },
     "execution_count": 29,
     "metadata": {},
     "output_type": "execute_result"
    }
   ],
   "source": [
    "quotes_list = quotes['quote'][1:].to_list()\n",
    "vectors = google_ef(quotes_list)\n",
    "len(vectors)"
   ]
  },
  {
   "cell_type": "code",
   "execution_count": 48,
   "metadata": {},
   "outputs": [
    {
     "data": {
      "text/plain": [
       "['id1', 'id2', 'id3', 'id4', 'id5', 'id6', 'id7', 'id8', 'id9', 'id10', 'id11']"
      ]
     },
     "execution_count": 48,
     "metadata": {},
     "output_type": "execute_result"
    }
   ],
   "source": [
    "ids = [f\"id{x}\" for x in quotes['index'][1:].to_list()]\n",
    "ids"
   ]
  },
  {
   "cell_type": "code",
   "execution_count": 12,
   "metadata": {},
   "outputs": [],
   "source": [
    "collection = chroma_client.get_or_create_collection(name=\"quotes\")"
   ]
  },
  {
   "cell_type": "code",
   "execution_count": 49,
   "metadata": {},
   "outputs": [
    {
     "name": "stderr",
     "output_type": "stream",
     "text": [
      "Add of existing embedding ID: id1\n",
      "Insert of existing embedding ID: id1\n"
     ]
    }
   ],
   "source": [
    "collection.add(\n",
    "    documents=quotes_list,\n",
    "    ids=ids,\n",
    "    embeddings=vectors\n",
    ")"
   ]
  },
  {
   "cell_type": "code",
   "execution_count": 50,
   "metadata": {},
   "outputs": [
    {
     "data": {
      "text/plain": [
       "11"
      ]
     },
     "execution_count": 50,
     "metadata": {},
     "output_type": "execute_result"
    }
   ],
   "source": [
    "collection.count()"
   ]
  },
  {
   "cell_type": "code",
   "execution_count": 55,
   "metadata": {},
   "outputs": [
    {
     "data": {
      "text/plain": [
       "{'ids': [['id8', 'id10', 'id1']],\n",
       " 'distances': [[0.1451733261346817, 0.362739622592926, 0.38663768768310547]],\n",
       " 'metadatas': [[None, None, None]],\n",
       " 'embeddings': None,\n",
       " 'documents': [['“You only live once, but if you do it right, once is enough.”',\n",
       "   \"“In three words I can sum up everything I've learned about life: it goes on.”\",\n",
       "   '“Be yourself; everyone else is already taken.”']],\n",
       " 'uris': None,\n",
       " 'data': None,\n",
       " 'included': ['metadatas', 'documents', 'distances']}"
      ]
     },
     "execution_count": 55,
     "metadata": {},
     "output_type": "execute_result"
    }
   ],
   "source": [
    "query = \"you only live once\"\n",
    "query_embeddings = google_ef([query])\n",
    "\n",
    "collection.query(\n",
    "    query_embeddings = query_embeddings,\n",
    "    n_results = 3\n",
    ")"
   ]
  },
  {
   "cell_type": "code",
   "execution_count": null,
   "metadata": {},
   "outputs": [],
   "source": []
  }
 ],
 "metadata": {
  "kernelspec": {
   "display_name": "venv",
   "language": "python",
   "name": "python3"
  },
  "language_info": {
   "codemirror_mode": {
    "name": "ipython",
    "version": 3
   },
   "file_extension": ".py",
   "mimetype": "text/x-python",
   "name": "python",
   "nbconvert_exporter": "python",
   "pygments_lexer": "ipython3",
   "version": "3.11.6"
  }
 },
 "nbformat": 4,
 "nbformat_minor": 2
}
